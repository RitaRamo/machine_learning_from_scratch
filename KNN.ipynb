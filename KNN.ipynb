{
 "cells": [
  {
   "cell_type": "markdown",
   "metadata": {},
   "source": [
    "# K-nearest neighbors algorithm"
   ]
  },
  {
   "cell_type": "markdown",
   "metadata": {},
   "source": [
    "We will implement from scratch the KNN algorithm. \n",
    "\n",
    "\n",
    "<b> General idea:</b>\n",
    "\n",
    "With a KNN classifier, the predicted class of a new point is the the most common class of its neighbours. \n",
    "\n",
    "\n",
    "<b> Steps of KNN classifier:</b>\n",
    "    1. computing the distance of the point to other points of the dataset.\n",
    "    2. according to distances, select the k closest neighbours\n",
    "    3. the class of the new point is the neighbours's most frequent class."
   ]
  },
  {
   "cell_type": "code",
   "execution_count": 1,
   "metadata": {
    "collapsed": false
   },
   "outputs": [],
   "source": [
    "import numpy as np\n",
    "import pandas as pd\n",
    "import matplotlib.pyplot as plt\n",
    "import matplotlib.colors as mcolors"
   ]
  },
  {
   "cell_type": "markdown",
   "metadata": {},
   "source": [
    "# Load the dataset"
   ]
  },
  {
   "cell_type": "markdown",
   "metadata": {},
   "source": [
    "Before implementing our classifier, lets load our data:"
   ]
  },
  {
   "cell_type": "code",
   "execution_count": 2,
   "metadata": {
    "collapsed": false
   },
   "outputs": [],
   "source": [
    "data=pd.read_csv(\"dataset.csv\")\n"
   ]
  },
  {
   "cell_type": "markdown",
   "metadata": {},
   "source": [
    "Lets take a look:"
   ]
  },
  {
   "cell_type": "code",
   "execution_count": 3,
   "metadata": {
    "collapsed": false
   },
   "outputs": [
    {
     "data": {
      "text/html": [
       "<div>\n",
       "<style>\n",
       "    .dataframe thead tr:only-child th {\n",
       "        text-align: right;\n",
       "    }\n",
       "\n",
       "    .dataframe thead th {\n",
       "        text-align: left;\n",
       "    }\n",
       "\n",
       "    .dataframe tbody tr th {\n",
       "        vertical-align: top;\n",
       "    }\n",
       "</style>\n",
       "<table border=\"1\" class=\"dataframe\">\n",
       "  <thead>\n",
       "    <tr style=\"text-align: right;\">\n",
       "      <th></th>\n",
       "      <th>age</th>\n",
       "      <th>height</th>\n",
       "      <th>class</th>\n",
       "    </tr>\n",
       "  </thead>\n",
       "  <tbody>\n",
       "    <tr>\n",
       "      <th>0</th>\n",
       "      <td>44</td>\n",
       "      <td>1.770826</td>\n",
       "      <td>Programmer</td>\n",
       "    </tr>\n",
       "    <tr>\n",
       "      <th>1</th>\n",
       "      <td>29</td>\n",
       "      <td>1.562530</td>\n",
       "      <td>Data Scientist</td>\n",
       "    </tr>\n",
       "    <tr>\n",
       "      <th>2</th>\n",
       "      <td>40</td>\n",
       "      <td>1.836191</td>\n",
       "      <td>Programmer</td>\n",
       "    </tr>\n",
       "    <tr>\n",
       "      <th>3</th>\n",
       "      <td>37</td>\n",
       "      <td>1.723574</td>\n",
       "      <td>Programmer</td>\n",
       "    </tr>\n",
       "    <tr>\n",
       "      <th>4</th>\n",
       "      <td>29</td>\n",
       "      <td>1.685144</td>\n",
       "      <td>Data Scientist</td>\n",
       "    </tr>\n",
       "    <tr>\n",
       "      <th>5</th>\n",
       "      <td>35</td>\n",
       "      <td>1.729868</td>\n",
       "      <td>Programmer</td>\n",
       "    </tr>\n",
       "    <tr>\n",
       "      <th>6</th>\n",
       "      <td>28</td>\n",
       "      <td>1.663725</td>\n",
       "      <td>Data Scientist</td>\n",
       "    </tr>\n",
       "    <tr>\n",
       "      <th>7</th>\n",
       "      <td>19</td>\n",
       "      <td>1.537866</td>\n",
       "      <td>Data Scientist</td>\n",
       "    </tr>\n",
       "    <tr>\n",
       "      <th>8</th>\n",
       "      <td>23</td>\n",
       "      <td>1.525927</td>\n",
       "      <td>Data Scientist</td>\n",
       "    </tr>\n",
       "    <tr>\n",
       "      <th>9</th>\n",
       "      <td>39</td>\n",
       "      <td>1.752162</td>\n",
       "      <td>Programmer</td>\n",
       "    </tr>\n",
       "  </tbody>\n",
       "</table>\n",
       "</div>"
      ],
      "text/plain": [
       "   age    height           class\n",
       "0   44  1.770826      Programmer\n",
       "1   29  1.562530  Data Scientist\n",
       "2   40  1.836191      Programmer\n",
       "3   37  1.723574      Programmer\n",
       "4   29  1.685144  Data Scientist\n",
       "5   35  1.729868      Programmer\n",
       "6   28  1.663725  Data Scientist\n",
       "7   19  1.537866  Data Scientist\n",
       "8   23  1.525927  Data Scientist\n",
       "9   39  1.752162      Programmer"
      ]
     },
     "execution_count": 3,
     "metadata": {},
     "output_type": "execute_result"
    }
   ],
   "source": [
    "data.head(10)"
   ]
  },
  {
   "cell_type": "markdown",
   "metadata": {},
   "source": [
    "The dataset has <i>X</i> features corresponding to <i>age</i> and <i>height</i>. The dataset also has <i>Y</i> classes to be predicted: if it is either a <i>Programmer</i> or a <i>Data Scientist</i>.\n",
    "\n",
    "- Inputs: X (age, heights)\n",
    "- Output: Y (class = {Programmer, Data Scientist})\n",
    "\n",
    "Lets divide our data into X and Y, since our algorithm will need the corresponding points and its classes."
   ]
  },
  {
   "cell_type": "code",
   "execution_count": 4,
   "metadata": {
    "collapsed": false
   },
   "outputs": [],
   "source": [
    "X=data.iloc[:,:-1].values\n",
    "Y=data[\"class\"].values"
   ]
  },
  {
   "cell_type": "code",
   "execution_count": 5,
   "metadata": {
    "collapsed": false
   },
   "outputs": [
    {
     "data": {
      "text/plain": [
       "array([[44.        ,  1.77082562],\n",
       "       [29.        ,  1.56252986],\n",
       "       [40.        ,  1.83619133],\n",
       "       [37.        ,  1.72357381],\n",
       "       [29.        ,  1.68514413],\n",
       "       [35.        ,  1.72986829],\n",
       "       [28.        ,  1.66372469],\n",
       "       [19.        ,  1.53786587],\n",
       "       [23.        ,  1.52592678],\n",
       "       [39.        ,  1.7521619 ],\n",
       "       [23.        ,  1.66864486],\n",
       "       [26.        ,  1.89648941],\n",
       "       [20.        ,  1.85652229],\n",
       "       [27.        ,  1.59384768],\n",
       "       [25.        ,  1.56635613],\n",
       "       [21.        ,  1.6043559 ],\n",
       "       [31.        ,  1.78388916],\n",
       "       [24.        ,  1.62913107],\n",
       "       [29.        ,  1.77958861],\n",
       "       [37.        ,  1.87951635]])"
      ]
     },
     "execution_count": 5,
     "metadata": {},
     "output_type": "execute_result"
    }
   ],
   "source": [
    "X"
   ]
  },
  {
   "cell_type": "code",
   "execution_count": 6,
   "metadata": {
    "collapsed": false
   },
   "outputs": [
    {
     "data": {
      "text/plain": [
       "array(['Programmer', 'Data Scientist', 'Programmer', 'Programmer',\n",
       "       'Data Scientist', 'Programmer', 'Data Scientist', 'Data Scientist',\n",
       "       'Data Scientist', 'Programmer', 'Data Scientist', 'Programmer',\n",
       "       'Programmer', 'Data Scientist', 'Data Scientist', 'Data Scientist',\n",
       "       'Programmer', 'Data Scientist', 'Programmer', 'Programmer'],\n",
       "      dtype=object)"
      ]
     },
     "execution_count": 6,
     "metadata": {},
     "output_type": "execute_result"
    }
   ],
   "source": [
    "Y"
   ]
  },
  {
   "cell_type": "markdown",
   "metadata": {},
   "source": [
    "Lets visualize:"
   ]
  },
  {
   "cell_type": "code",
   "execution_count": 7,
   "metadata": {
    "collapsed": false
   },
   "outputs": [
    {
     "data": {
      "image/png": "[encoded data removed]",
      "text/plain": [
       "<matplotlib.figure.Figure at 0x11b3c1eb8>"
      ]
     },
     "metadata": {},
     "output_type": "display_data"
    }
   ],
   "source": [
    "fig, ax = plt.subplots(figsize=(10, 5))\n",
    "#assigns a color to each data point\n",
    "\n",
    "categories = data[\"class\"].unique()\n",
    "\n",
    "def get_colour(data_class):\n",
    "    return \"black\" if data_class == \"Data Scientist\" else \"blue\"\n",
    "\n",
    "#iterates through the dataset plotting each data point and assigning it its corresponding color and label\n",
    "for i in range(len(data)):\n",
    "    ax.scatter(X[i,0], X[i,1], alpha=0.70, color =  get_colour(Y[i])  )\n",
    "#adds title and axes labels\n",
    "ax.set_title('Data Scientist vs Programmer')\n",
    "ax.set_xlabel('Age')\n",
    "ax.set_ylabel('Height')\n",
    "ax.legend(categories)\n",
    "plt.show()"
   ]
  },
  {
   "cell_type": "markdown",
   "metadata": {},
   "source": [
    "# KNN Algorithm"
   ]
  },
  {
   "cell_type": "markdown",
   "metadata": {},
   "source": [
    "Lets now implement the KNN algorithm that helps us predict new points based on the closest k neighbours."
   ]
  },
  {
   "cell_type": "markdown",
   "metadata": {},
   "source": [
    "### 1. Compute similarity"
   ]
  },
  {
   "cell_type": "markdown",
   "metadata": {},
   "source": [
    "We first need to compute the similarity between new point and the example points of our dataset, so that we can then pick the closest k neighbours. "
   ]
  },
  {
   "cell_type": "code",
   "execution_count": 8,
   "metadata": {
    "collapsed": false
   },
   "outputs": [],
   "source": [
    "def compute_similarity(examples, new_point):\n",
    "    return np.sqrt(np.sum((examples-new_point)**2, axis=1))"
   ]
  },
  {
   "cell_type": "markdown",
   "metadata": {},
   "source": [
    "### 2. Select the k closest neighbours"
   ]
  },
  {
   "cell_type": "markdown",
   "metadata": {},
   "source": [
    "After having the distance of the new points to the other point(s) of the dataset, we can pick its closest k neighbours (the points that have higher similarity/less distance)"
   ]
  },
  {
   "cell_type": "code",
   "execution_count": 9,
   "metadata": {
    "collapsed": false
   },
   "outputs": [],
   "source": [
    "def get_kclosest_points(similarities, k):\n",
    "    return np.argsort(similarities)[:k]"
   ]
  },
  {
   "cell_type": "markdown",
   "metadata": {},
   "source": [
    "### 3. Predicted class is the neighbours's most frequent class"
   ]
  },
  {
   "cell_type": "markdown",
   "metadata": {},
   "source": [
    "Having the k neighbours, we select the class that is the most frequent on the neighboord as the class of our new point. \n",
    "\n",
    "Example: For a new point, if the points that are similar to him (neighbours) are most of them Programmers, then the new point will be consider a Programmer."
   ]
  },
  {
   "cell_type": "code",
   "execution_count": 10,
   "metadata": {
    "collapsed": true
   },
   "outputs": [],
   "source": [
    "from collections import Counter\n",
    "def get_voted_class(neighbours, classes):\n",
    "    neighbours_classes= np.array(classes[neighbours])\n",
    "    return Counter(neighbours_classes).most_common(1)[0][0]"
   ]
  },
  {
   "cell_type": "markdown",
   "metadata": {},
   "source": [
    "### Putting it all together:"
   ]
  },
  {
   "cell_type": "markdown",
   "metadata": {},
   "source": [
    "We now just have to combine the previous steps in a single function, and voilà, we get our KNN classifier: "
   ]
  },
  {
   "cell_type": "code",
   "execution_count": 11,
   "metadata": {
    "collapsed": true
   },
   "outputs": [],
   "source": [
    "def KNN(examples, classes, new_points, K=3):\n",
    "    classes_predicted=[]\n",
    "    for new_point in new_points:\n",
    "        sim=compute_similarity(examples, new_point)\n",
    "        neighbours=get_kclosest_points(sim,K)\n",
    "        classes_predicted.append(get_voted_class(neighbours, classes))\n",
    "    return classes_predicted"
   ]
  },
  {
   "cell_type": "markdown",
   "metadata": {},
   "source": [
    "# Trying it out"
   ]
  },
  {
   "cell_type": "markdown",
   "metadata": {
    "collapsed": true
   },
   "source": [
    "Imagine we have new points, one of them from one class (Programmer) and the other from the other class (Data Scientist):"
   ]
  },
  {
   "cell_type": "code",
   "execution_count": 12,
   "metadata": {
    "collapsed": false
   },
   "outputs": [
    {
     "data": {
      "text/html": [
       "<div>\n",
       "<style>\n",
       "    .dataframe thead tr:only-child th {\n",
       "        text-align: right;\n",
       "    }\n",
       "\n",
       "    .dataframe thead th {\n",
       "        text-align: left;\n",
       "    }\n",
       "\n",
       "    .dataframe tbody tr th {\n",
       "        vertical-align: top;\n",
       "    }\n",
       "</style>\n",
       "<table border=\"1\" class=\"dataframe\">\n",
       "  <thead>\n",
       "    <tr style=\"text-align: right;\">\n",
       "      <th></th>\n",
       "      <th>age</th>\n",
       "      <th>height</th>\n",
       "      <th>class</th>\n",
       "    </tr>\n",
       "  </thead>\n",
       "  <tbody>\n",
       "    <tr>\n",
       "      <th>0</th>\n",
       "      <td>48</td>\n",
       "      <td>1.820126</td>\n",
       "      <td>Programmer</td>\n",
       "    </tr>\n",
       "    <tr>\n",
       "      <th>1</th>\n",
       "      <td>19</td>\n",
       "      <td>1.602530</td>\n",
       "      <td>Data Scientist</td>\n",
       "    </tr>\n",
       "  </tbody>\n",
       "</table>\n",
       "</div>"
      ],
      "text/plain": [
       "   age    height           class\n",
       "0   48  1.820126      Programmer\n",
       "1   19  1.602530  Data Scientist"
      ]
     },
     "execution_count": 12,
     "metadata": {},
     "output_type": "execute_result"
    }
   ],
   "source": [
    "data_new_points=pd.read_csv(\"new_points.csv\")\n",
    "data_new_points"
   ]
  },
  {
   "cell_type": "code",
   "execution_count": 13,
   "metadata": {
    "collapsed": false
   },
   "outputs": [],
   "source": [
    "new_points=data_new_points.iloc[:,:-1].values\n",
    "correct_classes = data_new_points.loc[:,\"class\"].values"
   ]
  },
  {
   "cell_type": "markdown",
   "metadata": {},
   "source": [
    "Lets visualize the new points:"
   ]
  },
  {
   "cell_type": "code",
   "execution_count": 14,
   "metadata": {
    "collapsed": false
   },
   "outputs": [
    {
     "data": {
      "image/png": "[encoded data removed]",
      "text/plain": [
       "<matplotlib.figure.Figure at 0x11b37be80>"
      ]
     },
     "metadata": {},
     "output_type": "display_data"
    }
   ],
   "source": [
    "fig, ax = plt.subplots(figsize=(10, 5))\n",
    "#assigns a color to each data point\n",
    "\n",
    "categories = data[\"class\"].unique()\n",
    "\n",
    "def get_colour(data_class):\n",
    "    return \"black\" if data_class == \"Data Scientist\" else \"blue\"\n",
    "\n",
    "#iterates through the dataset plotting each data point and assigning it its corresponding color and label\n",
    "for i in range(len(data)):\n",
    "    ax.scatter(X[i,0], X[i,1], alpha=0.70, color =  get_colour(Y[i])  )\n",
    "ax.scatter(new_points[:,0], new_points[:,1], color = \"red\")\n",
    "#adds title and axes labels\n",
    "ax.set_title('Data Scientist vs Programmer')\n",
    "ax.set_xlabel('Age')\n",
    "ax.set_ylabel('Height')\n",
    "ax.legend(categories)\n",
    "plt.show()"
   ]
  },
  {
   "cell_type": "markdown",
   "metadata": {},
   "source": [
    "Looking to the neighbours of the point on the top right, a KNN algorithm should consider it a Programmer. And the point on the bottom left should be considered a Data Scientist.\n",
    "\n",
    "Lets see if our KNN get it right, using 3 closest neighbours:"
   ]
  },
  {
   "cell_type": "code",
   "execution_count": 17,
   "metadata": {
    "collapsed": false
   },
   "outputs": [
    {
     "data": {
      "text/plain": [
       "['Programmer', 'Data Scientist']"
      ]
     },
     "execution_count": 17,
     "metadata": {},
     "output_type": "execute_result"
    }
   ],
   "source": [
    "predictions=KNN(X, Y, new_points, K=3)\n",
    "predictions"
   ]
  },
  {
   "cell_type": "markdown",
   "metadata": {},
   "source": [
    "Nice, it got it right!! "
   ]
  },
  {
   "cell_type": "code",
   "execution_count": 26,
   "metadata": {
    "collapsed": false
   },
   "outputs": [
    {
     "data": {
      "text/plain": [
       "array([ True,  True])"
      ]
     },
     "execution_count": 26,
     "metadata": {},
     "output_type": "execute_result"
    }
   ],
   "source": [
    "predictions == correct_classes"
   ]
  },
  {
   "cell_type": "markdown",
   "metadata": {},
   "source": [
    "(PS- Note the data used was just a simply example. In real datasets, new points are not that easy to predict)"
   ]
  }
 ],
 "metadata": {
  "kernelspec": {
   "display_name": "Python [conda env:anaconda]",
   "language": "python",
   "name": "conda-env-anaconda-py"
  },
  "language_info": {
   "codemirror_mode": {
    "name": "ipython",
    "version": 3
   },
   "file_extension": ".py",
   "mimetype": "text/x-python",
   "name": "python",
   "nbconvert_exporter": "python",
   "pygments_lexer": "ipython3",
   "version": "3.6.0"
  }
 },
 "nbformat": 4,
 "nbformat_minor": 2
}
